{
  "nbformat": 4,
  "nbformat_minor": 0,
  "metadata": {
    "colab": {
      "provenance": [],
      "authorship_tag": "ABX9TyNbL7044fUmn122H0bEwpQS",
      "include_colab_link": true
    },
    "kernelspec": {
      "name": "python3",
      "display_name": "Python 3"
    },
    "language_info": {
      "name": "python"
    }
  },
  "cells": [
    {
      "cell_type": "markdown",
      "metadata": {
        "id": "view-in-github",
        "colab_type": "text"
      },
      "source": [
        "<a href=\"https://colab.research.google.com/github/Noruzzang/Aiffelthon_qfit/blob/main/YYY.ipynb\" target=\"_parent\"><img src=\"https://colab.research.google.com/assets/colab-badge.svg\" alt=\"Open In Colab\"/></a>"
      ]
    },
    {
      "cell_type": "code",
      "source": [
        "from google.colab import drive\n",
        "drive.mount('/content/drive')"
      ],
      "metadata": {
        "id": "5Qk0O9zcey2r"
      },
      "execution_count": null,
      "outputs": []
    },
    {
      "cell_type": "code",
      "source": [
        "!pip install pymunk\n",
        "!pip install ultralytics\n",
        "!pip show pymunk"
      ],
      "metadata": {
        "id": "zsHS_vg6ezsG"
      },
      "execution_count": null,
      "outputs": []
    },
    {
      "cell_type": "code",
      "execution_count": null,
      "metadata": {
        "id": "j2BsbaIxerbC"
      },
      "outputs": [],
      "source": [
        "import cv2\n",
        "from ultralytics import YOLO\n",
        "import pymunk\n",
        "from pymunk import Vec2d\n",
        "from google.colab.patches import cv2_imshow\n",
        "\n",
        "# YOLO 모델 로드 및 이미지 읽기\n",
        "model = YOLO(\"/content/drive/MyDrive/qpit_prj/data/best_Mansoon.pt\")\n",
        "image_path = '/content/drive/MyDrive/Billiard/Input_mp4/frames/single_frame.jpg'\n",
        "image = cv2.imread(image_path)\n",
        "process_ball_info = \"white ball\"\n",
        "\n",
        "# YOLO 모델로 이미지 분석\n",
        "results = model(image)\n",
        "class_names = model.names\n",
        "output_image = image.copy()\n",
        "\n",
        "# 테이블 박스 초기화 및 탐지\n",
        "table_box = None\n",
        "for detection in results[0].boxes:\n",
        "    box = detection.xyxy[0].tolist()\n",
        "    class_id = int(detection.cls[0])\n",
        "    class_name = class_names[class_id]\n",
        "    if class_name == \"table\":\n",
        "        table_box = box\n",
        "        cv2.rectangle(output_image, (int(box[0]), int(box[1])), (int(box[2]), int(box[3])), (0, 0, 255), 2)\n",
        "        text = f\"{class_name} ({class_id}) {confidence:.2f}\"\n",
        "        cv2.putText(output_image, text, (int(box[0]), int(box[1] - 10)), cv2.FONT_HERSHEY_SIMPLEX, 0.5, (0, 0, 255), 2)\n",
        "\n",
        "cv2_imshow(output_image)\n",
        "\n",
        "# 공 탐지 및 그리기 함수\n",
        "def detector_org_cuball(image, target_ball_info):\n",
        "    color_map = {\n",
        "        \"yellow ball\": (0, 255, 255),\n",
        "        \"white ball\": (255, 255, 255)\n",
        "    }\n",
        "    for detection in results[0].boxes:\n",
        "        box = detection.xyxy[0].tolist()\n",
        "        class_id = int(detection.cls[0])\n",
        "        class_name = class_names[class_id]\n",
        "        if class_name == target_ball_info:\n",
        "            x = int((box[0] + box[2]) // 2)\n",
        "            y = int((box[1] + box[3]) // 2)\n",
        "            radius = int((box[2] - box[0]) // 2)\n",
        "            if target_ball_info in color_map:\n",
        "                cv2.circle(image, (x, y), radius, color_map[target_ball_info], 2)\n",
        "                cv2.putText(image, f\"{target_ball_info}\", (x - 10, y - 10), cv2.FONT_HERSHEY_SIMPLEX, 0.5, color_map[target_ball_info], 2)\n",
        "            return (x, y), radius\n",
        "    return None, None\n",
        "\n",
        "# Pymunk 물리 엔진 초기화\n",
        "def setup_physics(space, table_box):\n",
        "    space.gravity = (0, 0)\n",
        "    t_x1, t_y1, t_x2, t_y2 = map(int, table_box)\n",
        "    static_lines = [\n",
        "        pymunk.Segment(space.static_body, (t_x1, t_y1), (t_x2, t_y1), 1),\n",
        "        pymunk.Segment(space.static_body, (t_x1, t_y1), (t_x1, t_y2), 1),\n",
        "        pymunk.Segment(space.static_body, (t_x2, t_y1), (t_x2, t_y2), 1),\n",
        "        pymunk.Segment(space.static_body, (t_x1, t_y2), (t_x2, t_y2), 1),\n",
        "    ]\n",
        "    for line in static_lines:\n",
        "        line.elasticity = 0.95  # 현실적인 반발 계수로 조정\n",
        "        space.add(line)\n",
        "\n",
        "# 경로 시뮬레이션 함수\n",
        "def simulate_bounce_path(space, start_pos, radius_new, velocity, table_box, max_bounces):\n",
        "    body = pymunk.Body(mass=1, moment=10)\n",
        "    body.position = start_pos\n",
        "    body.velocity = velocity\n",
        "    ball = pymunk.Circle(body, radius_new)\n",
        "    ball.elasticity = 0.95\n",
        "    space.add(body, ball)\n",
        "    trajectory_points = []\n",
        "    bounces = 0\n",
        "    for _ in range(1000):  # 더 긴 반복으로 경로 추적\n",
        "        space.step(0.005)  # 더 작은 시간 단위로 시뮬레이션 정확도 증가\n",
        "        trajectory_points.append((int(body.position.x), int(body.position.y)))\n",
        "        if (body.position.x <= table_box[0] or body.position.x >= table_box[2] or\n",
        "            body.position.y <= table_box[1] or body.position.y >= table_box[3]):\n",
        "            bounces += 1\n",
        "            if bounces >= max_bounces:\n",
        "                break\n",
        "    return trajectory_points\n",
        "\n",
        "# Pymunk 공간 생성 및 시뮬레이션 실행\n",
        "space = pymunk.Space()\n",
        "if table_box:\n",
        "    setup_physics(space, table_box)\n",
        "\n",
        "start_pos, radius_new = detector_org_cuball(image, process_ball_info)\n",
        "if start_pos:\n",
        "    trajectory = simulate_bounce_path(space, start_pos, radius_new, (500, 300), list(map(int, table_box)), 4)\n",
        "    for point in trajectory:\n",
        "        cv2.circle(image, point, 3, (0, 255, 0), -1)\n",
        "\n",
        "cv2_imshow(image)\n",
        "cv2.waitKey(0)\n",
        "cv2.destroyAllWindows()\n"
      ]
    }
  ]
}