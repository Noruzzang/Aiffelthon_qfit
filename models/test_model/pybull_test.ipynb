{
  "nbformat": 4,
  "nbformat_minor": 0,
  "metadata": {
    "colab": {
      "provenance": []
    },
    "kernelspec": {
      "name": "python3",
      "display_name": "Python 3"
    },
    "language_info": {
      "name": "python"
    }
  },
  "cells": [
    {
      "cell_type": "code",
      "execution_count": null,
      "metadata": {
        "id": "_M7gtNVWOhIs"
      },
      "outputs": [],
      "source": [
        "!pip install ultralytics opencv-python pybullet matplotlib"
      ]
    },
    {
      "cell_type": "code",
      "source": [
        "import cv2\n",
        "import numpy as np\n",
        "import pybullet as p\n",
        "import pybullet_data\n",
        "from ultralytics import YOLO\n",
        "import matplotlib.pyplot as plt\n",
        "\n",
        "# Load YOLOv8 model\n",
        "model = YOLO(\"yolov8n.pt\")  # Replace with your trained model for billiard balls\n",
        "\n",
        "# Initialize PyBullet\n",
        "p.connect(p.GUI)  # Use DIRECT for headless mode\n",
        "p.setAdditionalSearchPath(pybullet_data.getDataPath())\n",
        "plane_id = p.loadURDF(\"plane.urdf\")\n",
        "table_id = p.createCollisionShape(p.GEOM_BOX, halfExtents=[1.5, 0.75, 0.01])  # Approx table size\n",
        "p.createMultiBody(baseCollisionShapeIndex=table_id, basePosition=[0, 0, -0.01])\n",
        "\n",
        "# Ball properties\n",
        "BALL_RADIUS = 0.028\n",
        "BALL_MASS = 0.17\n",
        "\n",
        "# Add a ball to the simulation\n",
        "def add_ball(position, velocity):\n",
        "    ball_id = p.createCollisionShape(p.GEOM_SPHERE, radius=BALL_RADIUS)\n",
        "    body_id = p.createMultiBody(\n",
        "        baseMass=BALL_MASS,\n",
        "        baseCollisionShapeIndex=ball_id,\n",
        "        basePosition=position,\n",
        "    )\n",
        "    p.resetBaseVelocity(body_id, linearVelocity=velocity)\n",
        "    return body_id\n",
        "\n",
        "# Process video\n",
        "cap = cv2.VideoCapture(\"/content/drive/MyDrive/billiard_game.mp4\")  # Replace with your video file\n",
        "frame_width = int(cap.get(cv2.CAP_PROP_FRAME_WIDTH))\n",
        "frame_height = int(cap.get(cv2.CAP_PROP_FRAME_HEIGHT))\n",
        "\n",
        "while cap.isOpened():\n",
        "    ret, frame = cap.read()\n",
        "    if not ret:\n",
        "        break\n",
        "\n",
        "    # YOLO object detection\n",
        "    results = model(frame, conf=0.5)\n",
        "    balls = []\n",
        "    for result in results.xyxy[0]:  # Each detection\n",
        "        x1, y1, x2, y2, conf, cls = result\n",
        "        cx, cy = (x1 + x2) / 2, (y1 + y2) / 2\n",
        "        balls.append((cx, cy))\n",
        "\n",
        "    # Map pixel positions to PyBullet coordinates\n",
        "    for ball in balls:\n",
        "        px, py = ball\n",
        "        position = [(px / frame_width) * 2.84 - 1.42, (py / frame_height) * 1.42 - 0.71, BALL_RADIUS]\n",
        "        add_ball(position, [0, 0, 0])  # Add with zero velocity for now\n",
        "\n",
        "    # Simulate trajectory\n",
        "    for _ in range(240):  # Simulate for 1 second at 240 Hz\n",
        "        p.stepSimulation()\n",
        "\n",
        "    # Visualize trajectory\n",
        "    ball_positions = [\n",
        "        p.getBasePositionAndOrientation(body_id)[0][:2]\n",
        "        for body_id in range(p.getNumBodies())\n",
        "    ]\n",
        "    for path in ball_positions:\n",
        "        plt.scatter(*path, label=\"Ball Trajectory\")\n",
        "    plt.legend()\n",
        "    plt.show()\n",
        "    break  # Process only the first frame\n",
        "\n",
        "cap.release()\n",
        "cv2.destroyAllWindows()\n",
        "p.disconnect()\n"
      ],
      "metadata": {
        "id": "avPF4q1KOkt8"
      },
      "execution_count": null,
      "outputs": []
    }
  ]
}